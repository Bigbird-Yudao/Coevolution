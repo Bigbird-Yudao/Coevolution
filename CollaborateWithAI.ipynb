{
    "cells": [
        {
            "cell_type": "markdown",
            "metadata": {},
            "source": [
                "# 如何与 AI 协作\n",
                "对个体而言，这是未来若干年里最重要的问题，没有之一。注意：本文所说的 AI 特指大语言模型（LLMs）。\n"
            ]
        },
        {
            "cell_type": "markdown",
            "metadata": {},
            "source": [
                "## 0. 开始之前"
            ]
        },
        {
            "cell_type": "markdown",
            "metadata": {},
            "source": [
                "### 0.1 准备运行环境"
            ]
        },
        {
            "cell_type": "code",
            "execution_count": null,
            "metadata": {},
            "outputs": [],
            "source": [
                "%pip install -r requirements.txt"
            ]
        },
        {
            "cell_type": "code",
            "execution_count": null,
            "metadata": {},
            "outputs": [],
            "source": [
                "# 导入必要的包和环境变量\n",
                "\n",
                "import os\n",
                "from git import Repo\n",
                "from datetime import datetime\n",
                "from dotenv import load_dotenv\n",
                "\n",
                "# 加载 .env 文件\n",
                "load_dotenv()\n",
                "OPENROUTER_API_KEY = os.getenv(\"OPENROUTER_API_KEY\")\n",
                "GITHUB_URL = os.getenv(\"GITHUB_URL\")\n",
                "GITHUB_TOKEN = os.getenv(\"GITHUB_TOKEN\")\n",
                "GITHUB_USERNAME = os.getenv(\"GITHUB_USERNAME\")\n",
                "GITHUB_USERNAME_EMAIL = os.getenv(\"GITHUB_USERNAME_EMAIL\")\n",
                "\n",
                "# %ai list\n",
                "%load_ext jupyter_ai_magics\n"
            ]
        },
        {
            "cell_type": "markdown",
            "metadata": {},
            "source": [
                "### 0.2 准备Git环境\n",
                "获取 GitHub 个人访问令牌\n",
                "- 访问 GitHub.com -> Settings -> Developer settings -> Personal access tokens\n",
                "\n",
                "设置并配置 SSH 密钥\n",
                "- 生成 SSH 密钥：ssh-keygen -t ed25519 -C \"zijiess@hotmail.com\"\n",
                "- 将创建的密钥添加到 Github 的 SSH 密钥列表中：访问 GitHub.com -> Settings -> SSH and GPG keys -> 点击 \"New SSH key\" -> 粘贴密钥内容并保存\n",
                "- 测试 SSH 连接：ssh -T git@github.com"
            ]
        },
        {
            "cell_type": "code",
            "execution_count": 44,
            "metadata": {},
            "outputs": [
                {
                    "name": "stdout",
                    "output_type": "stream",
                    "text": [
                        "🔄 添加更改到暂存区\n",
                        "🔄 提交更改\n",
                        "🔄 推送到远程仓库\n",
                        "✅ 已推送到 Github: 更新：添加与 AI 协作的文档\n"
                    ]
                }
            ],
            "source": [
                "def init_git_repo(repo_path='.', github_url=GITHUB_URL):\n",
                "    \"\"\"初始化并配置 Git 仓库\"\"\"\n",
                "    try:\n",
                "        # 验证环境变量\n",
                "        if not all([GITHUB_URL, GITHUB_USERNAME, GITHUB_USERNAME_EMAIL]):\n",
                "            raise ValueError(\"请确保所有必要的环境变量都已设置\")\n",
                "        \n",
                "        # 转换 HTTPS URL 为 SSH URL\n",
                "        # 从 https://github.com/Bigbird-Yudao/Coevolution.git\n",
                "        # 到 git@github.com:Bigbird-Yudao/Coevolution.git\n",
                "        ssh_url = GITHUB_URL.replace('https://github.com/', 'git@github.com:')\n",
                "        \n",
                "        # 删除现有仓库配置\n",
                "        git_dir = os.path.join(repo_path, '.git')\n",
                "        if os.path.exists(git_dir):\n",
                "            import shutil\n",
                "            shutil.rmtree(git_dir)\n",
                "            print(\"🗑️ 已删除现有的 Git 仓库配置\")\n",
                "        \n",
                "        # 初始化新仓库\n",
                "        repo = Repo.init(repo_path)\n",
                "        print(\"✅ 已初始化新的 Git 仓库\")\n",
                "        \n",
                "        # 配置用户信息\n",
                "        config_writer = repo.config_writer()\n",
                "        config_writer.set_value(\"user\", \"name\", GITHUB_USERNAME)\n",
                "        config_writer.set_value(\"user\", \"email\", GITHUB_USERNAME_EMAIL)\n",
                "        config_writer.release()\n",
                "        print(\"✅ 已配置 Git 用户信息\")\n",
                "        \n",
                "        # 添加远程仓库\n",
                "        origin = repo.create_remote('origin', ssh_url)\n",
                "        print(f\"✅ 已添加远程仓库: {ssh_url}\")\n",
                "        \n",
                "        # 创建并切换到 main 分支\n",
                "        repo.git.checkout('-b', 'main')\n",
                "        print(\"✅ 已创建并切换到 main 分支\")\n",
                "        \n",
                "        # 创建初始提交\n",
                "        readme_path = os.path.join(repo_path, 'README.md')\n",
                "        if not os.path.exists(readme_path):\n",
                "            with open(readme_path, 'w') as f:\n",
                "                f.write(f'# {GITHUB_REPO_NAME}\\n')\n",
                "        repo.index.add(['README.md'])\n",
                "        repo.index.commit('Initial commit')\n",
                "        print(\"✅ 已创建初始提交\")\n",
                "        \n",
                "        # 推送到远程仓库\n",
                "        print(\"🔄 推送到远程仓库...\")\n",
                "        repo.git.push('--set-upstream', 'origin', 'main')\n",
                "        print(\"✅ 成功推送到远程仓库\")\n",
                "        \n",
                "        return repo\n",
                "        \n",
                "    except Exception as e:\n",
                "        print(f\"❌ 初始化失败: {str(e)}\")\n",
                "        return None\n",
                "\n",
                "def push_to_github(message=None, repo_path='.'):\n",
                "    \"\"\"推送更新到 Github\"\"\"\n",
                "    try:\n",
                "        repo = Repo(repo_path)\n",
                "        \n",
                "        if not repo.is_dirty() and not repo.untracked_files:\n",
                "            print(\"📝 没有需要提交的更改\")\n",
                "            return\n",
                "            \n",
                "        if not message:\n",
                "            message = f\"更新: {datetime.now().strftime('%Y-%m-%d %H:%M')}\"\n",
                "        \n",
                "        print(\"🔄 添加更改到暂存区\")    \n",
                "        repo.git.add('.')\n",
                "        \n",
                "        print(\"🔄 提交更改\")\n",
                "        repo.index.commit(message)\n",
                "        \n",
                "        print(\"🔄 推送到远程仓库\")\n",
                "        repo.git.push('origin', 'main')\n",
                "        \n",
                "        print(f\"✅ 已推送到 Github: {message}\")\n",
                "        \n",
                "    except Exception as e:\n",
                "        print(f\"❌ 推送失败: {str(e)}\")\n",
                "\n",
                "# 使用示例\n",
                "if __name__ == \"__main__\":\n",
                "    # 初始化仓库\n",
                "    #repo = init_git_repo()\n",
                "    \n",
                "    # 后续提交更新\n",
                "    push_to_github(\"更新：添加与 AI 协作的文档\")"
            ]
        },
        {
            "cell_type": "markdown",
            "metadata": {},
            "source": [
                "## 1. 「与 AI 协作」是什么意思\n",
                "文章标题中的「与 AI 协作」，是什么意思？"
            ]
        },
        {
            "cell_type": "markdown",
            "metadata": {},
            "source": [
                "## 2. 为何要与 AI 协作\n",
                "因为绝大多数人都「不够」聪明、智能有限。AI 能补足这一短板。\n",
                "庄子的名言「吾生也有涯，而知也无涯，以有涯随无涯，殆矣。已而为知者，殆而已矣」，会随着 AI 的普及，成为历史。\n"
            ]
        },
        {
            "cell_type": "markdown",
            "metadata": {},
            "source": [
                "## 3. 如何与 AI 协作\n",
                "首先，要建立一套自洽的思维框架，用于激励、指引和落实具体行为。\n",
                "其次，要理解 AI 的能力边界，分工而后协作。\n",
                "最后，将协作成果融入生活，让生活更轻松。这也是协作的根本目标。"
            ]
        },
        {
            "cell_type": "markdown",
            "metadata": {},
            "source": [
                "### 3.1 三个问题\n",
                "黄金圈法则是个很不错的思维框架。通过逐次回答并反复迭代 Why、How、What 三个问题，能厘清思路，激励、指引和落实行为。\n",
                "逐次回答和反复迭代显然无法在头脑中完成，那需要借助工具。"
            ]
        },
        {
            "cell_type": "markdown",
            "metadata": {},
            "source": [
                "### 3.2 协作的工具\n",
                "书写数字文档，是应用「黄金圈法则」、展开思维与落实行动的最佳方式。其实质是将「协作」数字化。\n",
                "\n",
                "书写工具可以是 Obsidian、Notion、飞书、VSCode，也可以是 Word 或 Google Docs。不过，它们都是前 AI 时代的产物，AI 时代的原生工具仍在孕育中。但可以确定的是：新工具将支持人类获得更强大的智能。\n"
            ]
        },
        {
            "cell_type": "markdown",
            "metadata": {},
            "source": [
                "#### 3.2.1 两种智能\n",
                "沃尔弗拉姆（Stephen Wolfram）认为：智能分两种。一种是生成式智能（类似卡尼曼所说的系统1），它依赖于通过学习训练出的神经网络。大语言模型是万亿参数组成的人工神经网络，人脑是 800 亿神经元构成的生物神经网络。另一种智能，是计算式的（类似卡尼曼所说的系统2），它使用结构化的数据和确定性的算法，依靠一步一步的计算得出答案。生成智能速度快，但精度有限，自带不确定性；计算智能相对缓慢，但精度可调，结果确定。\n",
                "\n",
                "<div style=\"text-align: center;\">\n",
                "    <img src=\"TwoIntelligence.png\" alt=\"图1: ChatGPT 和 Wolfram｜Alpha\" width=\"80%\">\n",
                "</div>\n",
                "\n",
                "3 年前，两种智能还是泾渭分明的。而今，ChatGPT 彻底打破了两者间的壁垒。除了能生成远比人类系统1更丰富完备的文本，它还能将自然语言翻译成可执行的代码，支持系统2调动远超自身的强大计算能力。这意味着，智能或智商将无法再制约个体。"
            ]
        },
        {
            "cell_type": "markdown",
            "metadata": {},
            "source": [
                "#### 3.2.3 协作界面\n",
                "「Jupyter + Cursor + Github」是我目前正在使用的协作界面。\n",
                "\n",
                "其中，Jupyter 是核心，它将文本编辑、代码执行和数据可视化融为一体，是数字文档的框架。Cursor 充当 AI 助手，用于集成和调用各类 LLMs 生成内容；Github 负责后勤保障，一方面确保工作成果安全存储，另一方面还负责追踪每个版本的演变历程。\n",
                "\n",
                "<div style=\"text-align: center;\">\n",
                "    <a href=\"模版.ipynb\"><img src=\"UI.jpg\" alt=\"图2: 协作界面\" width=\"98%\"></a>\n",
                "</div>\n",
                "\n",
                "图2是与 AI 协作实现「财务自由」的工作界面截图。界面左侧是资源导航与文档结构窗口，中间是文档编辑窗口，右侧是与 AI 互动的聊天窗口。"
            ]
        },
        {
            "cell_type": "markdown",
            "metadata": {},
            "source": [
                "#### 3.2.2 目标、现状与路径\n",
                "有了生成智能和计算智能的加持，设定目标、分析现状、规划路径，这些指引性工作都将变得更轻松。你不是一个人在战斗。\n",
                "\n"
            ]
        },
        {
            "cell_type": "code",
            "execution_count": 1,
            "metadata": {},
            "outputs": [],
            "source": [
                "import os\n",
                "\n",
                "# %ai list\n",
                "%load_ext jupyter_ai_magics\n",
                "OPENROUTER_API_KEY = os.getenv(\"OPENROUTER_API_KEY\")"
            ]
        },
        {
            "cell_type": "code",
            "execution_count": null,
            "metadata": {},
            "outputs": [],
            "source": [
                "%%ai openrouter:openai/gpt-4o-mini-2024-07-18\n",
                "为什么需要学习与 AI 协作？"
            ]
        },
        {
            "cell_type": "markdown",
            "metadata": {},
            "source": [
                "### 3.3 让生活更轻松"
            ]
        },
        {
            "cell_type": "markdown",
            "metadata": {},
            "source": [
                "#### 3.3.1 生活拼图"
            ]
        },
        {
            "cell_type": "markdown",
            "metadata": {},
            "source": [
                "#### 3.3.2 量化生活"
            ]
        },
        {
            "cell_type": "markdown",
            "metadata": {},
            "source": [
                "#### 3.3.3 不定期审查人生\n"
            ]
        },
        {
            "cell_type": "markdown",
            "metadata": {},
            "source": [
                "## 4. 与 AI 协作些什么"
            ]
        }
    ],
    "metadata": {
        "kernelspec": {
            "display_name": "venv",
            "language": "python",
            "name": "python3"
        },
        "language_info": {
            "codemirror_mode": {
                "name": "ipython",
                "version": 3
            },
            "file_extension": ".py",
            "mimetype": "text/x-python",
            "name": "python",
            "nbconvert_exporter": "python",
            "pygments_lexer": "ipython3",
            "version": "3.12.7"
        }
    },
    "nbformat": 4,
    "nbformat_minor": 2
}
