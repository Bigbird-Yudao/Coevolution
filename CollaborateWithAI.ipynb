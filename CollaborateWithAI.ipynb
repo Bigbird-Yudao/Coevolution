{
 "cells": [
  {
   "cell_type": "markdown",
   "metadata": {},
   "source": [
    "# 学会与 AI 协作\n",
    "对个体而言，这是未来若干年里最重要的问题，没有之一。注意：本文所说的 AI 特指大语言模型（LLMs）。\n"
   ]
  },
  {
   "cell_type": "markdown",
   "metadata": {},
   "source": [
    "## 0. 开始之前\n",
    "在开始前，需做些准备工作。"
   ]
  },
  {
   "cell_type": "markdown",
   "metadata": {},
   "source": [
    "### 0.1 准备计算智能环境\n",
    "计算智能环境由算力、算法和数据三类要素构成：\n",
    "- 计算资源。可以是本地计算机，也可以是云主机或类似 Colab 的 SaaS 服务。\n",
    "- Python 及三方库、三方 API 服务。\n",
    "- 三方及自有数据。"
   ]
  },
  {
   "cell_type": "code",
   "execution_count": null,
   "metadata": {},
   "outputs": [],
   "source": [
    "# 安装必要的三方库\n",
    "%pip install -r requirements.txt"
   ]
  },
  {
   "cell_type": "code",
   "execution_count": 1,
   "metadata": {},
   "outputs": [],
   "source": [
    "# 导入三方库\n",
    "\n",
    "import os\n",
    "from git import Repo\n",
    "from datetime import datetime\n",
    "from dotenv import load_dotenv\n",
    "import json\n",
    "import requests\n",
    "import httpx\n",
    "import re\n",
    "from typing import List, Dict, Any\n",
    "\n",
    "# %ai list\n",
    "%load_ext jupyter_ai_magics\n"
   ]
  },
  {
   "cell_type": "code",
   "execution_count": 2,
   "metadata": {},
   "outputs": [],
   "source": [
    "# 加载本地 .env 文件\n",
    "load_dotenv()\n",
    "\n",
    "OPENROUTER_API_URL = os.getenv(\"OPENROUTER_API_URL\")\n",
    "OPENROUTER_API_KEY = os.getenv(\"OPENROUTER_API_KEY\")\n",
    "\n",
    "DIFY_API_URL = os.getenv(\"DIFY_API_URL\")\n",
    "DIFY_API_KEY = os.getenv(\"DIFY_BOT_KEY\")\n",
    "\n",
    "GITHUB_URL = os.getenv(\"GITHUB_URL\")\n",
    "GITHUB_TOKEN = os.getenv(\"GITHUB_TOKEN\")\n",
    "GITHUB_USERNAME = os.getenv(\"GITHUB_USERNAME\")\n",
    "GITHUB_USERNAME_EMAIL = os.getenv(\"GITHUB_USERNAME_EMAIL\")\n",
    "GITHUB_REPO_NAME = os.getenv(\"GITHUB_REPO_NAME\")"
   ]
  },
  {
   "cell_type": "markdown",
   "metadata": {},
   "source": [
    "### 0.2 准备生成智能环境\n",
    "生成智能环境由模型、提示和工具等要素构成：\n",
    "- 模型（LLMs）。借助 Openrouter 可以方便的调用 OpenAI、Anthropic 等大语言模型。\n",
    "- 提示（Prompts）。提示是人与 AI 对话/协作的桥梁，用于引导模型生成所需的内容。\n",
    "- 工具（Tools）。借助 Dify 可以方便的创建和调用比 LLMs 更强大的智能体或工作流。智能体或工作流是模型、工具、知识的有机组合。\n"
   ]
  },
  {
   "cell_type": "code",
   "execution_count": 3,
   "metadata": {},
   "outputs": [
    {
     "name": "stdout",
     "output_type": "stream",
     "text": [
      "OPENROUTER_API_KEY 验证成功,API 连接正常。\n",
      "模型准备完毕。\n"
     ]
    }
   ],
   "source": [
    "# 准备模型、智能体和工作流。\n",
    "\n",
    "# Openrouter 模型配置 \n",
    "OPENROUTER_MODEL = \"openai/gpt-4o-mini-2024-07-18\"\n",
    "#OPENROUTER_MODEL = \"anthropic/claude-3.5-sonnet:beta\"\n",
    "#OPENROUTER_MODEL = \"qwen/qwen-2.5-7b-instruct\"\n",
    "\n",
    "# 验证 API 令牌是否有效\n",
    "def validate_api_tokens():\n",
    "    # 验证 Openrouter API 令牌\n",
    "    if not OPENROUTER_API_KEY:\n",
    "        raise ValueError(\"OPENROUTER_API_KEY 未设置。请在 .env 文件中设置 OPENROUTER_API_KEY。\")\n",
    "\n",
    "    openrouter_headers = {\n",
    "        \"Authorization\": f\"Bearer {OPENROUTER_API_KEY}\",\n",
    "        \"Content-Type\": \"application/json\",\n",
    "        \"HTTP-Prompt-Cache\": \"true\"  # 启用 Prompt 缓存\n",
    "    }\n",
    "    openrouter_payload = {\n",
    "        \"model\": OPENROUTER_MODEL, #\"openai/gpt-4o-mini-2024-07-18\",\n",
    "        \"messages\": [{\"role\": \"user\", \"content\": \"测试消息\"}]\n",
    "    }\n",
    "    try:\n",
    "        openrouter_response = requests.post(OPENROUTER_API_URL, json=openrouter_payload, headers=openrouter_headers)\n",
    "        if openrouter_response.status_code == 200:\n",
    "            print(\"OPENROUTER_API_KEY 验证成功,API 连接正常。\")\n",
    "        else:\n",
    "            print(f\"Openrouter API 响应异常,状态码:{openrouter_response.status_code}\")\n",
    "            print(f\"错误信息:{openrouter_response.text}\")\n",
    "    except requests.RequestException as e:\n",
    "        print(f\"Openrouter API 连接失败:{str(e)}\")\n",
    "\n",
    "    # 验证 Dify API 令牌\n",
    "    if not DIFY_API_KEY:\n",
    "        raise ValueError(\"DIFY_API_KEY 未设置。请在 .env 文件中设置 DIFY_API_KEY。\")\n",
    "    \n",
    "    dify_headers = {\n",
    "        \"Authorization\": f\"Bearer {DIFY_API_KEY}\",\n",
    "        \"Content-Type\": \"application/json\"\n",
    "    }\n",
    "    dify_payload = {\n",
    "        \"inputs\": {\"etf_code\": \"FPE\"},\n",
    "        \"query\": \"综述代码为 FPE 的 ETF\",\n",
    "        \"response_mode\": \"blocking\",\n",
    "        \"conversation_id\": \"\",\n",
    "        \"user\": \"api_validator\"\n",
    "    }\n",
    "    \"\"\"\n",
    "    try:\n",
    "        dify_response = requests.post(DIFY_API_URL, json=dify_payload, headers=dify_headers)\n",
    "        if dify_response.status_code == 200:\n",
    "            print(\"DIFY_API_KEY 验证成功,API 连接正常。\")\n",
    "        else:\n",
    "            print(f\"Dify API 响应异常,状态码:{dify_response.status_code}\")\n",
    "            print(f\"错误信息:{dify_response.text}\")\n",
    "    except requests.RequestException as e:\n",
    "        print(f\"Dify API 连接失败:{str(e)}\")\n",
    "    \"\"\"\n",
    "    \n",
    "async def call_llm(messages: List[Dict[str, str]]) -> str:\n",
    "    \"\"\"\n",
    "    调用 LLM API 并返回响应。\n",
    "    \"\"\"\n",
    "    headers = {\n",
    "        \"Authorization\": f\"Bearer {OPENROUTER_API_KEY}\",\n",
    "        \"Content-Type\": \"application/json\",\n",
    "        \"HTTP-Prompt-Cache\": \"true\"  # 启用 Prompt 缓存\n",
    "    }\n",
    "\n",
    "    payload = {\n",
    "        \"model\": OPENROUTER_MODEL,\n",
    "        \"messages\": messages\n",
    "    }\n",
    "\n",
    "    try:\n",
    "        async with httpx.AsyncClient() as client:\n",
    "            response = await client.post(OPENROUTER_API_URL, json=payload, headers=headers)\n",
    "        response.raise_for_status()\n",
    "        result = response.json()\n",
    "        # print(f\"API Response: {json.dumps(result, indent=2)}\") \n",
    "        return result['choices'][0]['message']['content']\n",
    "    except httpx.HTTPStatusError as e:\n",
    "        print(f\"HTTP error occurred: {e}\")\n",
    "        raise\n",
    "    except Exception as e:\n",
    "        print(f\"An unexpected error occurred: {e}\")\n",
    "        raise\n",
    "\n",
    "def format_llm_response(response: str) -> dict:\n",
    "    \"\"\"\n",
    "    格式化 LLM 返回的响应，确保它是一个有效的 JSON 对象。\n",
    "    \"\"\"\n",
    "    # 移除可能的 markdown 代码块标记\n",
    "    response = re.sub(r'```json\\s*', '', response)\n",
    "    response = re.sub(r'\\s*```', '', response)\n",
    "\n",
    "    # 尝试直接解析 JSON\n",
    "    try:\n",
    "        parsed_response = json.loads(response)\n",
    "        if isinstance(parsed_response, dict):\n",
    "            return parsed_response\n",
    "    except json.JSONDecodeError:\n",
    "        pass\n",
    "\n",
    "    # 如果直接解析失败，尝试提取并解析嵌套的 JSON\n",
    "    try:\n",
    "        match = re.search(r'\\{.*\\}', response, re.DOTALL)\n",
    "        if match:\n",
    "            parsed_response = json.loads(match.group())\n",
    "            if isinstance(parsed_response, dict):\n",
    "                return parsed_response\n",
    "    except json.JSONDecodeError:\n",
    "        pass\n",
    "\n",
    "    # 如果所有尝试都失败，返回原始响应作为字符串值的字典\n",
    "    return {\"raw\": response}\n",
    "\n",
    "validate_api_tokens()\n",
    "print(\"模型准备完毕。\")"
   ]
  },
  {
   "cell_type": "code",
   "execution_count": 4,
   "metadata": {},
   "outputs": [],
   "source": [
    "scholar_system_prompt = f\"\"\"\n",
    "你是一位\"Scholar\", 博览群书, 熟悉 DDC 分类法。你的任务是针对用户提出的\"{{subject}}是什么\", 提供多维度信息, 支持用户深入理解该主题。\n",
    "\n",
    "流程指引：\n",
    "1. 以表格形式, 基于拉米(Bernard Lamy)框架提供以下信息:\n",
    "    - 类别(Genre): 该{{subject}}在 DDC 分类中所属的类别\n",
    "    - 种差(Differentia): 在该类别中,与其他事物相比{{subject}}有何独特之处?\n",
    "    - 部分(Parts): {{subject}}由哪些部分构成?\n",
    "    - 定义(Definition): {{subject}}的基本定义是什么?\n",
    "    - 词源(Etymology): 该词的词源、历史与演变如何?\n",
    "    - 反义词(Antonyms): 有哪些与{{subject}}相对立的概念?\n",
    "    - 原因与由来(Cause): {{subject}}是由什么产生或发展而来的?\n",
    "    - 结果与衍生物(Effect): {{subject}}会引发什么结果或衍生物?\n",
    "2. 小结与延伸:\n",
    "    - 生成对\"{{subject}}是什么\"的独立见解, 帮助用户从更广阔的视角理解{{subject}}。\n",
    "    - 提出1-2个能激发进一步思考的问题, 引导用户深入探究。\n",
    "\"\"\""
   ]
  },
  {
   "cell_type": "markdown",
   "metadata": {},
   "source": [
    "### 0.3 准备远程存储仓库\n",
    "GitHub 经典访问方式：通过个人访问令牌\n",
    "- 访问 GitHub.com -> Settings -> Developer settings -> Personal access tokens\n",
    "- 生成新的令牌，确保勾选 repo 权限\n",
    "\n",
    "GitHub 推荐的认证方式：通过 SSH 密钥\n",
    "- 生成 SSH 密钥：ssh-keygen -t ed25519 -C \"zijiess@hotmail.com\"\n",
    "- 将创建的密钥添加到 Github 的 SSH 密钥列表中：访问 GitHub.com -> Settings -> SSH and GPG keys -> 点击 \"New SSH key\" -> 粘贴密钥内容并保存\n",
    "- 测试 SSH 连接：ssh -T git@github.com"
   ]
  },
  {
   "cell_type": "code",
   "execution_count": null,
   "metadata": {},
   "outputs": [],
   "source": [
    "def init_git_repo(repo_path='.', github_url=GITHUB_URL):\n",
    "    \"\"\"初始化并配置 Git 仓库\"\"\"\n",
    "    try:\n",
    "        # 验证环境变量\n",
    "        if not all([GITHUB_URL, GITHUB_USERNAME, GITHUB_USERNAME_EMAIL]):\n",
    "            raise ValueError(\"请确保所有必要的环境变量都已设置\")\n",
    "        \n",
    "        # 转换 HTTPS URL 为 SSH URL\n",
    "        # 从 https://github.com/Bigbird-Yudao/Coevolution.git\n",
    "        # 到 git@github.com:Bigbird-Yudao/Coevolution.git\n",
    "        ssh_url = GITHUB_URL.replace('https://github.com/', 'git@github.com:')\n",
    "        \n",
    "        # 删除现有仓库配置\n",
    "        git_dir = os.path.join(repo_path, '.git')\n",
    "        if os.path.exists(git_dir):\n",
    "            import shutil\n",
    "            shutil.rmtree(git_dir)\n",
    "            print(\"🗑️ 已删除现有的 Git 仓库配置\")\n",
    "        \n",
    "        # 初始化新仓库\n",
    "        repo = Repo.init(repo_path)\n",
    "        print(\"✅ 已初始化新的 Git 仓库\")\n",
    "        \n",
    "        # 配置用户信息\n",
    "        config_writer = repo.config_writer()\n",
    "        config_writer.set_value(\"user\", \"name\", GITHUB_USERNAME)\n",
    "        config_writer.set_value(\"user\", \"email\", GITHUB_USERNAME_EMAIL)\n",
    "        config_writer.release()\n",
    "        print(\"✅ 已配置 Git 用户信息\")\n",
    "        \n",
    "        # 添加远程仓库\n",
    "        origin = repo.create_remote('origin', ssh_url)\n",
    "        print(f\"✅ 已添加远程仓库: {ssh_url}\")\n",
    "        \n",
    "        # 创建并切换到 main 分支\n",
    "        repo.git.checkout('-b', 'main')\n",
    "        print(\"✅ 已创建并切换到 main 分支\")\n",
    "        \n",
    "        # 创建初始提交\n",
    "        readme_path = os.path.join(repo_path, 'README.md')\n",
    "        if not os.path.exists(readme_path):\n",
    "            with open(readme_path, 'w') as f:\n",
    "                f.write(f'# {GITHUB_REPO_NAME}\\n')\n",
    "        repo.index.add(['README.md'])\n",
    "        repo.index.commit('Initial commit')\n",
    "        print(\"✅ 已创建初始提交\")\n",
    "        \n",
    "        # 推送到远程仓库\n",
    "        print(\"🔄 推送到远程仓库...\")\n",
    "        repo.git.push('--set-upstream', 'origin', 'main')\n",
    "        print(\"✅ 成功推送到远程仓库\")\n",
    "        \n",
    "        return repo\n",
    "        \n",
    "    except Exception as e:\n",
    "        print(f\"❌ 初始化失败: {str(e)}\")\n",
    "        return None\n",
    "\n",
    "def push_to_github(message=None, repo_path='.'):\n",
    "    \"\"\"推送更新到 Github\"\"\"\n",
    "    try:\n",
    "        repo = Repo(repo_path)\n",
    "        \n",
    "        if not repo.is_dirty() and not repo.untracked_files:\n",
    "            print(\"📝 没有需要提交的更改\")\n",
    "            return\n",
    "            \n",
    "        if not message:\n",
    "            message = f\"更新: {datetime.now().strftime('%Y-%m-%d %H:%M')}\"\n",
    "        \n",
    "        print(\"🔄 添加更改到暂存区\")    \n",
    "        repo.git.add('.')\n",
    "        \n",
    "        print(\"🔄 提交更改\")\n",
    "        repo.index.commit(message)\n",
    "        \n",
    "        print(\"🔄 推送到远程仓库\")\n",
    "        repo.git.push('origin', 'main')\n",
    "        \n",
    "        print(f\"✅ 已推送到 Github: {message}\")\n",
    "        \n",
    "    except Exception as e:\n",
    "        print(f\"❌ 推送失败: {str(e)}\")\n",
    "\n",
    "\n",
    "# 首次使用时需初始化仓库\n",
    "#repo = init_git_repo()\n",
    "\n",
    "# 后续提交更新\n",
    "push_to_github(\"更新：添加与 AI 协作的文档\")"
   ]
  },
  {
   "cell_type": "markdown",
   "metadata": {},
   "source": [
    "## 1. 重新思考：何谓「与 AI 协作」\n",
    "笔记标题中的「与 AI 协作」究竟是什么意思？\n",
    "- 写下你的独立思考\n",
    "- 请 AI 生成她的思考\n",
    "- 汇总共识"
   ]
  },
  {
   "cell_type": "markdown",
   "metadata": {},
   "source": [
    "### 1.1 我所理解的「与 AI 协作」\n",
    "每个人的观点都受限于其本人的立场或三观。因此，在提出自己的观点前，必须有意识的提醒自己：你受何种立场的限制。\n",
    "\n",
    "在我看来，「与 AI 协作」就是找个帮手，一起完成任务。它至少要具备以下两项能力之一：\n",
    "- 知道我不知道的事儿\n",
    "- 能做我不想做的事儿"
   ]
  },
  {
   "cell_type": "code",
   "execution_count": null,
   "metadata": {},
   "outputs": [],
   "source": [
    "# AI 如何理解「协作」，如何理解「与 AI 协作」\n",
    "\n",
    "subject_text1 = \"协作\"\n",
    "subject_text2 = \"与 AI 协作\"\n",
    "\n",
    "scholar_user_prompt = f\"\"\"\n",
    "{subject_text1} 是什么？{subject_text2} 又是什么？\n",
    "\"\"\"\n",
    "\n",
    "messages = [\n",
    "    {\"role\": \"system\", \"content\": scholar_system_prompt},\n",
    "    {\"role\": \"user\", \"content\": scholar_user_prompt}\n",
    "]\n",
    "#print(messages)\n",
    "\n",
    "# 缺省调用 GPT-4o-mini 模型提取数据，如果提取效果不佳，可尝试更换\"anthropic/claude-3.5-sonnet:beta\"模型\n",
    "OPENROUTER_MODEL = \"anthropic/claude-3.5-sonnet:beta\" # \"openai/gpt-4o-mini-2024-07-18\" anthropic/claude-3.5-haiku:beta\n",
    "extracted_data = await call_llm(messages)\n",
    "# print(f\"AI 如何理解 {subject_text1} 以及 {subject_text2}。结果如下:\\n\\n {extracted_data}\")"
   ]
  },
  {
   "cell_type": "code",
   "execution_count": null,
   "metadata": {},
   "outputs": [],
   "source": [
    "\n",
    "from IPython.core.interactiveshell import InteractiveShell\n",
    "shell = InteractiveShell.instance()\n",
    "\n",
    "# 创建要插入的 markdown 内容\n",
    "markdown_content = f\"\"\"### 1.2 AI 理解的「与 AI 协作」\n",
    "\n",
    "{extracted_data}\"\"\"\n",
    "\n",
    "# 获取当前 notebook 对象\n",
    "notebook = shell.user_ns['_ih'][-1].split('\\n')[0]  # 获取当前执行的代码所在的 notebook\n",
    "\n",
    "# 使用 nbformat 修改 notebook\n",
    "import nbformat\n",
    "\n",
    "# 读取当前 notebook\n",
    "with open('CollaborateWithAI.ipynb', 'r', encoding='utf-8') as f:\n",
    "    nb = nbformat.read(f, as_version=4)\n",
    "\n",
    "# 查找并更新目标 markdown cell\n",
    "updated = False\n",
    "for cell in nb.cells:\n",
    "    if cell.cell_type == 'markdown' and cell.source.startswith('### 1.2 AI 理解的「与 AI 协作」'):\n",
    "        cell.source = markdown_content\n",
    "        updated = True\n",
    "        break\n",
    "\n",
    "if not updated:\n",
    "    # 如果没找到目标 cell，创建新的 markdown cell\n",
    "    new_cell = nbformat.v4.new_markdown_cell(markdown_content)\n",
    "    nb.cells.append(new_cell)\n",
    "\n",
    "# 保存更新后的 notebook\n",
    "with open('CollaborateWithAI.ipynb', 'w', encoding='utf-8') as f:\n",
    "    nbformat.write(nb, f)\n",
    "\n",
    "# 通知用户需要手动刷新\n",
    "print(\"内容已更新，请手动保存并刷新 notebook（快捷键：Ctrl+S 然后 Shift+Enter）来查看更改。\")"
   ]
  },
  {
   "cell_type": "markdown",
   "metadata": {},
   "source": [
    "### 1.2 AI 理解的「与 AI 协作」\n",
    "\n",
    "**协作基本概念分析**\n",
    "\n",
    "| 框架维度 | 内容说明 |\n",
    "|---------|---------|\n",
    "| 类别 | DDC 300 (社会科学) - 管理学与组织行为 |\n",
    "| 种差 | 区别于单独工作或竞争，协作强调多方共同参与、优势互补、共同目标 |\n",
    "| 部分 | 1. 共同目标 2. 参与主体 3. 沟通机制 4. 资源共享 5. 协调机制 6. 成果分享 |\n",
    "| 定义 | 两个或多个主体为实现共同目标，通过优势互补、资源共享进行的互惠合作过程 |\n",
    "| 词源 | 源自拉丁语\"collaborare\"，\"col-\"(共同) + \"laborare\"(工作)，意为一起工作 |\n",
    "| 反义词 | 独立工作、对抗、竞争、单打独斗 |\n",
    "| 原因 | 1. 任务复杂性增加 2. 资源互补需求 3. 效率提升需求 4. 风险分担需要 |\n",
    "| 结果 | 1. 创新增强 2. 效率提升 3. 资源优化 4. 互利共赢 5. 组织学习 |\n",
    "\n",
    "**人机协作分析**\n",
    "\n",
    "| 框架维度 | 内容说明 |\n",
    "|---------|---------|\n",
    "| 类别 | DDC 004 (计算机科学) + 300 (社会科学) 交叉领域 |\n",
    "| 种差 | 区别于传统人际协作，突出人类智慧与AI能力的互补性 |\n",
    "| 部分 | 1. 人类判断力 2. AI计算能力 3. 交互界面 4. 任务分配 5. 反馈机制 |\n",
    "| 定义 | 人类与AI系统基于各自优势，通过有效交互实现共同目标的协同工作模式 |\n",
    "| 词源 | \"Human-AI Collaboration\"概念始于20世纪末计算机辅助系统发展 |\n",
    "| 反义词 | AI替代、完全人工、完全自动化 |\n",
    "| 原因 | 1. 技术进步 2. 效率需求 3. 认知增强需求 4. 工作复杂化 |\n",
    "| 结果 | 1. 生产力提升 2. 创新突破 3. 工作方式革新 4. 新型能力培养 |\n",
    "\n",
    "**小结与延伸：**\n",
    "协作是人类社会发展的基础模式，而人机协作则代表了数字时代的新型协作范式。传统协作更强调人与人之间的互动与信任，人机协作则需要在保持人类主导地位的同时，充分发挥AI的计算、存储和处理优势。这种新型协作模式正在重塑我们的工作方式和价值创造模式。\n",
    "\n",
    "**深入思考问题：**\n",
    "1. 在人机协作中，如何平衡效率提升与人类主体性的保持？\n",
    "2. 未来人机协作会如何改变传统的组织结构和工作流程？"
   ]
  },
  {
   "cell_type": "markdown",
   "metadata": {},
   "source": [
    "### 1.3 「与 AI 协作」究竟是什么\n",
    "人与人的协作是在相互信任和尊重的基础上，通过有效沟通、资源共享、优势互补，追求共同目标，创造更大价值的过程。\n",
    "类似的，人与 AI 的协作，同样是为了创造“1+1>2”的效果。问题是这能实现吗？\n",
    "\n",
    "AI 没有意识、没有欲望、也没有目标。\n",
    "因此，无论人类是否愿意，都必须在与 AI 协作的过程中承担领导角色。即：与 AI 协作的前提是你必须具备领导力。你的目标就是 AI 的目标。\n",
    "紧接着，AI 的优势是什么？如何体现？为了最大化 AI 的优势，又要如何与其沟通？\n",
    "最后，协作双方如何分工？如何共享资源？"
   ]
  },
  {
   "cell_type": "markdown",
   "metadata": {},
   "source": [
    "## 2. 为何与 AI 协作\n",
    "经过重新思考何谓「与 AI 协作」，「为何与 AI 协作」的答案想必也已经浮现。\n",
    "即便如此，你还是需要将它们记录下来。因为你的观点得随着事实的变化而改变。"
   ]
  },
  {
   "cell_type": "code",
   "execution_count": 10,
   "metadata": {},
   "outputs": [],
   "source": [
    "OPENROUTER_MODEL = \"anthropic/claude-3.5-sonnet:beta\" # \"openai/gpt-4o-mini-2024-07-18\"\n",
    "ToAskReasonPrompt = \"人类为何要与 AI 协作？最重要的协作理由，和不协作损失分别是什么？请各生成三条理由。\""
   ]
  },
  {
   "cell_type": "code",
   "execution_count": 17,
   "metadata": {},
   "outputs": [
    {
     "data": {
      "text/markdown": [
       "# 人类与 AI 协作的价值分析\n",
       "\n",
       "## 最重要的协作理由\n",
       "\n",
       "1. **能力互补**\n",
       "   - AI：擅长数据处理、模式识别、重复性工作\n",
       "   - 人类：具备创造力、情感理解、复杂决策能力\n",
       "   - 结合后能实现双方优势最大化\n",
       "\n",
       "2. **生产效率提升**\n",
       "   - 降低人力成本\n",
       "   - 减少人为错误\n",
       "   - 加快工作节奏\n",
       "   - 提高产出质量\n",
       "\n",
       "3. **创新突破**\n",
       "   - AI 提供新视角和解决方案\n",
       "   - 扩展人类认知边界\n",
       "   - 加速科技发展进程\n",
       "\n",
       "## 不协作可能的损失\n",
       "\n",
       "1. **竞争力衰退**\n",
       "   - 效率落后于竞争对手\n",
       "   - 创新能力受限\n",
       "   - 市场份额流失\n",
       "\n",
       "2. **机会成本**\n",
       "   - 错失技术红利\n",
       "   - 人力资源浪费\n",
       "   - 发展进程延缓\n",
       "\n",
       "3. **社会适应性下降**\n",
       "   - 与主流发展脱节\n",
       "   - 职业竞争力降低\n",
       "   - 社会参与度受限"
      ],
      "text/plain": [
       "<IPython.core.display.Markdown object>"
      ]
     },
     "execution_count": 17,
     "metadata": {
      "text/markdown": {
       "jupyter_ai": {
        "model_id": "anthropic/claude-3.5-sonnet:beta",
        "provider_id": "openrouter"
       }
      }
     },
     "output_type": "execute_result"
    }
   ],
   "source": [
    "%%ai openrouter:{OPENROUTER_MODEL}\n",
    "{ToAskReasonPrompt}"
   ]
  },
  {
   "cell_type": "markdown",
   "metadata": {},
   "source": [
    "### 2.1 协作的理由\n",
    "绝大多数人都不够聪明、智能有限。我也不例外。AI 能补足这一短板。支持我生活得更轻松。[更多信息](https://g90eu9w9ym.feishu.cn/docx/V97EdojtXoOx3zxIE3ScZJlan9c#share-DxDpdUk1boaKYJxv8ircamaBnde)\n",
    "\n",
    "比如，我想要与 AI 协作：\n",
    "- 保护身心健康\n",
    "- 融洽社交关系\n",
    "- 实现财务自由\n",
    "- 让生活更轻松\n",
    "……\n",
    "\n",
    "此外，我还试图回应庄子的忠告：\n",
    "「吾生也有涯，而知也无涯。以有涯随无涯，殆已！已而为知者，殆而已矣！为善无近名，为恶无近刑，缘督以为经，可以保身，可以全生，可以养亲，可以尽年。」。生命有限，知识无限。以有限的生命追求无限的知识，这是很危险的事！危险还要做，这就更危险了！只要我们不以有涯之生追求无涯之知，做好事别让人知道，做坏事别被人抓住，遵循中道，就可以保全性命，奉养双亲，安享天年。"
   ]
  },
  {
   "cell_type": "markdown",
   "metadata": {},
   "source": [
    "### 2.2 不协作的损失\n",
    "- 很多事情都做不好\n",
    "- 无法创造出我想要的事物\n",
    "- 损失一个创业机会"
   ]
  },
  {
   "cell_type": "markdown",
   "metadata": {},
   "source": [
    "## 3. 如何与 AI 协作\n",
    "请想象一下：你想要与 AI 协作出什么？或者，你想要创造出什么？这是与 AI 协作的起点。\n",
    "\n",
    "接着：\n",
    "- 建立一套思维框架。用于激励、指引和落实后续行动。\n",
    "- 集成一组工具。用于确定协作的形式和分工。\n",
    "- 围绕「目标-现状-路径」制订提案。"
   ]
  },
  {
   "cell_type": "markdown",
   "metadata": {},
   "source": [
    "### 3.1 围绕「想要」的三个问题\n",
    "黄金圈法则是创造「想要」之物的缺省思维框架。通过引导自己逐次回答并反复迭代 Why、How、What 三个问题，能够厘清思路，激励、指引和落实行为。\n",
    "\n",
    "逐次回答和反复迭代显然无法在头脑中完成，你需要工具。"
   ]
  },
  {
   "cell_type": "markdown",
   "metadata": {},
   "source": [
    "### 3.2 协作的工具\n",
    "书写或绘制数字文档，是应用「黄金圈法则」，展开思维与落实行动的最佳方式。其实质是将「协作」过程数字化。\n",
    "\n",
    "书写工具可以是 Obsidian、Notion、飞书、VSCode，也可以是 Word 或 Google Docs。不过，这些工具都产自前 AI 时代，AI 时代的原生工具仍在孕育中。不过，可以确凿的是：新工具将支持人类获得更强大的智能。\n"
   ]
  },
  {
   "cell_type": "markdown",
   "metadata": {},
   "source": [
    "#### 3.2.1 两种智能\n",
    "沃尔弗拉姆（Stephen Wolfram）认为：智能分两种。一种是生成式智能，类似卡尼曼的系统1。生成智能依赖于通过学习训练出的神经网络。大语言模型是万亿参数组成的人工神经网络，人脑是 800 亿神经元构成的生物神经网络。另一种智能，是计算式的，类似卡尼曼的系统2。计算智能使用结构化的数据和确定性的算法，依靠一步一步的计算得出答案。生成智能速度快，但精度有限，自带不确定性；计算智能相对缓慢，但精度可调，结果确定。\n",
    "\n",
    "<div style=\"text-align: center;\">\n",
    "    <img src=\"TwoIntelligence.png\" alt=\"图1: ChatGPT 和 Wolfram｜Alpha\" width=\"80%\">\n",
    "</div>\n",
    "\n",
    "3 年前，两种智能还是泾渭分明的。而今，ChatGPT 彻底打破了两种智能间的壁垒。除了能生成远比人类系统1更丰富完备的文本，ChatGPT 还能将自然语言翻译成可执行的代码，支持系统2调动远超自身的强大计算能力。这意味着，智能或智商将无法再制约个体的想象力。"
   ]
  },
  {
   "cell_type": "markdown",
   "metadata": {},
   "source": [
    "#### 3.2.2 协作界面\n",
    "「Jupyter + Cursor + Github」是一种极有潜力的协作界面。\n",
    "Jupyter 是数字文档的载体，将文本编辑、代码执行和数据可视化融为一体。Cursor 是兼容 VSCode 的 IDE（集成开发环境），集成了主流的 LLMs 和各种数据源。Github 是后勤保障，一方面保障工作成果的安全存储，一方面追踪想要之物的演变历程。\n",
    "\n",
    "<div style=\"text-align: center;\">\n",
    "    <a href=\"模版.ipynb\"><img src=\"UI.jpg\" alt=\"图2: 协作界面\" width=\"98%\"></a>\n",
    "</div>\n",
    "\n",
    "图2是与 AI 协作实现「财务自由」的工作界面截图。界面左侧是资源导航与文档结构窗口，中间是文档编辑窗口，右侧是与 AI 互动、集成外部数据的协作窗口。"
   ]
  },
  {
   "cell_type": "markdown",
   "metadata": {},
   "source": [
    "### 3.3 围绕「想要」制订提案\n",
    "有了生成智能和计算智能的加持，设定目标、分析现状、规划路径等提案工作将变得更轻松。你不是一个人战斗。\n",
    "\n",
    "以「如何实现财务自由」为例，说明如何围绕「想要」制订提案。\n",
    "- 厘清概念：究竟什么是财务自由？一个极简的模型是：财务自由 = 被动收入 > 必要支出 。\n",
    "- 分析现状：本月/本季/本年的被动收入和必要支出分别是多少？\n",
    "- 设定目标：想要的与你所拥有的，落差有多大？将想要之物转换成若干目标。比如：必要开支目标、被动收入目标、投资目标、储蓄目标等等。\n",
    "- 规划路径：制订不同阶段的任务列表。比如：在起步阶段制订的任务列表可以是：建立记账习惯、清理不良债务、构建应急储备、开始基础投资。\n",
    "\n",
    "请 AI 生成提案："
   ]
  },
  {
   "cell_type": "code",
   "execution_count": null,
   "metadata": {},
   "outputs": [],
   "source": [
    "OPENROUTER_MODEL = \"anthropic/claude-3.5-sonnet:beta\" # \"openai/gpt-4o-mini-2024-07-18\"\n",
    "ToDraftProposalPrompt = \"如何实现财务自由? 请从厘清概念, 分析现状, 设定目标, 规划路径四个维度, 制订提案.\""
   ]
  },
  {
   "cell_type": "code",
   "execution_count": null,
   "metadata": {},
   "outputs": [],
   "source": [
    "%%ai openrouter:{OPENROUTER_MODEL}\n",
    "{ToDraftProposalPrompt}\n"
   ]
  },
  {
   "cell_type": "markdown",
   "metadata": {},
   "source": [
    "## 4. 与 AI 协作什么\n",
    "有了提案和分阶段的任务列表，下一步是将它们逐一落地实施。每个任务的执行过程都可由一个 PDCA 循环表示。\n",
    "- Plan（计划）： 将提案任务细化为具体的待办清单。\n",
    "- Do（执行）： 在物理世界中逐项完成清单中的子任务。\n",
    "- Check（检查）： 将执行结果反馈到数字世界，并协同 AI 对结果进行评估。\n",
    "- Act（处理）： 根据评估结果优化待办清单，持续循环，直至目标达成。\n",
    "\n",
    "人与 AI 协作完成任务的关键是打通「数字世界」和「物理世界」。因为 AI 存在于数字世界，而执行发生在物理世界。只有将执行的结果反馈到数字世界，AI 才能全程参与任务。\n"
   ]
  },
  {
   "cell_type": "code",
   "execution_count": 81,
   "metadata": {},
   "outputs": [],
   "source": [
    "OPENROUTER_MODEL = \"anthropic/claude-3.5-sonnet:beta\" # \"openai/gpt-4o-mini-2024-07-18\"\n",
    "\n",
    "GenerateTODOListPrompt = \"为了实现财务自由，我需要养成记账习惯。请围绕「建立记账习惯」，生成待办清单。\"\n",
    "\n",
    "PDCAPrompt = GenerateTODOListPrompt"
   ]
  },
  {
   "cell_type": "code",
   "execution_count": null,
   "metadata": {},
   "outputs": [],
   "source": [
    "%%ai openrouter:{OPENROUTER_MODEL}\n",
    "{PDCAPrompt}"
   ]
  },
  {
   "cell_type": "markdown",
   "metadata": {},
   "source": [
    "### 4.1 打通「数字世界」和「物理世界」\n",
    "打通「数字世界」与「物理世界」的核心在于构建一个以数字文档为中枢的双向通道，让两个世界的数据流和控制流能无缝衔接。具体运作方式是：在数字世界，人与 AI 协作创建和完善数字文档；在物理世界，人在 AI 的支持下执行数字文档中的待办清单，并将结果反馈回数字文档。如此，所有的 PDCA 环节——从计划到执行，再到评估和调整——就可以在数字文档中闭环完成。\n",
    "\n",
    "一个显而易见的问题是其中的执行环节工作负担往往较重，比如「建立记账习惯」就是件琐碎且没完没了的工作。解决方案是：将记账交由「计算智能」接手。请 AI 开发两个小程序（计算智能的体现形式）：其一用于定期下载支付宝、微信、银行等账户流水单 PDF 文件；其二用于将文件处理成数字文档能够理解的记账结果。\n",
    "\n",
    "整套方案在一定程度上展现出了「两种智能」与「两个世界」融合后的形态：「生成智能」负责在「数字世界」创造提案；「计算智能」负责执行「数字世界」中的重复性任务；人类负责输出领导力并解决衔接问题，比如将某些「物理世界」的对象映射至「数字世界」。"
   ]
  },
  {
   "cell_type": "markdown",
   "metadata": {},
   "source": [
    "### 4.2 进一步理解「数字文档」\n",
    "前文曾提及书写数字文档的过程就是将「协作」数字化的过程。这句话还有另一种表述：数字文档是操作某种对象的工具。这个对象既可以是「协作」、也可以是「财务」，还可以是更抽象的「关系」。数字文档操作这个对象的目的是模拟现实，推演变化，预测未来。比如，「如何实现财务自由」的操作对象就是「财务」，而财务自由是一种值得追求的财务状态。为了追求这种状态，需要将财务对象从「物理世界」映射至「数字世界」，这个映射的过程就是建模的过程。存在于「数字世界」中的对象即为模型。比如，「财务」对象的模型就是财务三表--资产负债表/损益表/现金流量表。\n",
    "\n",
    "前文提到，书写数字文档的过程就是将「协作」数字化的过程。这句话还可以换一种角度理解：数字文档是操作「协作」对象的工具，目的是在数字世界中模拟现实、推演变化、预测未来。例如，数字文档「如何实现财务自由」的操作对象是「财务」，目标是将其推进至自由状态。为了清晰表述这种状态，必须将「财务」对象从物理世界映射至数字世界，这个映射过程就是建模，映射后的数字对象即为模型，也就是财务三表——资产负债表、损益表、现金流量表。\n",
    "\n",
    "模型是用数学公式和图表展现的形式化结构。它有三个特征：第一，它们都要简化，剥离不必要的细节，抽象掉若干现实世界中的因素，或者需要从头重新创造。第二，它们都是形式化的，要给出精确的定义。模型通常要使用数学公式，而不是文字。第三，所有模型都是错误的。[3]"
   ]
  },
  {
   "cell_type": "code",
   "execution_count": null,
   "metadata": {},
   "outputs": [],
   "source": [
    "OPENROUTER_MODEL = \"anthropic/claude-3.5-sonnet:beta\" # \"openai/gpt-4o-mini-2024-07-18\"\n",
    "\n",
    "ModelingPrompt = \"如果要为“财务自由”建立一个模型，你认为它应该是什么\"\n"
   ]
  },
  {
   "cell_type": "code",
   "execution_count": null,
   "metadata": {},
   "outputs": [],
   "source": [
    "%%ai openrouter:{OPENROUTER_MODEL}\n",
    "{ModelingPrompt}"
   ]
  },
  {
   "cell_type": "markdown",
   "metadata": {},
   "source": [
    "### 4.3 开发和运转模型"
   ]
  },
  {
   "cell_type": "markdown",
   "metadata": {},
   "source": [
    "## 5 更多协作：让生活更轻松"
   ]
  },
  {
   "cell_type": "markdown",
   "metadata": {},
   "source": [
    "### 5.1 生活拼图"
   ]
  },
  {
   "cell_type": "markdown",
   "metadata": {},
   "source": [
    "### 5.2 量化生活"
   ]
  },
  {
   "cell_type": "markdown",
   "metadata": {},
   "source": [
    "### 5.3 审查人生"
   ]
  }
 ],
 "metadata": {
  "kernelspec": {
   "display_name": "venv",
   "language": "python",
   "name": "python3"
  },
  "language_info": {
   "codemirror_mode": {
    "name": "ipython",
    "version": 3
   },
   "file_extension": ".py",
   "mimetype": "text/x-python",
   "name": "python",
   "nbconvert_exporter": "python",
   "pygments_lexer": "ipython3",
   "version": "3.12.7"
  }
 },
 "nbformat": 4,
 "nbformat_minor": 2
}
